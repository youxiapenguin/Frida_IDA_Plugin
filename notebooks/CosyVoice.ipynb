{
  "nbformat": 4,
  "nbformat_minor": 0,
  "metadata": {
    "colab": {
      "provenance": [],
      "gpuType": "T4",
      "include_colab_link": true
    },
    "kernelspec": {
      "name": "python3",
      "display_name": "Python 3"
    },
    "language_info": {
      "name": "python"
    },
    "accelerator": "GPU"
  },
  "cells": [
    {
      "cell_type": "markdown",
      "metadata": {
        "id": "view-in-github",
        "colab_type": "text"
      },
      "source": [
        "<a href=\"https://colab.research.google.com/github/youxiapenguin/Frida_IDA_Plugin/blob/main/notebooks/CosyVoice.ipynb\" target=\"_parent\"><img src=\"https://colab.research.google.com/assets/colab-badge.svg\" alt=\"Open In Colab\"/></a>"
      ]
    },
    {
      "cell_type": "code",
      "source": [
        "#@title 一键运行 CosyVoice\n",
        "!git clone --recursive https://github.com/KevinWang676/CosyVoice.git\n",
        "%cd CosyVoice\n",
        "!pip install -r requirements.txt\n",
        "!mkdir -p pretrained_models\n",
        "!git clone https://www.modelscope.cn/iic/CosyVoice-300M.git pretrained_models/CosyVoice-300M\n",
        "!export PYTHONPATH=third_party/Matcha-TTS\n",
        "!python3 webui_colab.py"
      ],
      "metadata": {
        "id": "lAEyVebGqnzS",
        "outputId": "cd5e6edd-8db9-4fa5-dc66-e4d152b96b7f",
        "colab": {
          "base_uri": "https://localhost:8080/"
        }
      },
      "execution_count": null,
      "outputs": [
        {
          "output_type": "stream",
          "name": "stdout",
          "text": [
            "Cloning into 'CosyVoice'...\n",
            "remote: Enumerating objects: 481, done.\u001b[K\n",
            "remote: Counting objects: 100% (277/277), done.\u001b[K\n",
            "remote: Compressing objects: 100% (87/87), done.\u001b[K\n",
            "remote: Total 481 (delta 219), reused 190 (delta 190), pack-reused 204 (from 1)\u001b[K\n",
            "Receiving objects: 100% (481/481), 805.10 KiB | 2.00 MiB/s, done.\n",
            "Resolving deltas: 100% (260/260), done.\n",
            "Submodule 'third_party/Matcha-TTS' (https://github.com/shivammehta25/Matcha-TTS.git) registered for path 'third_party/Matcha-TTS'\n",
            "Cloning into '/content/CosyVoice/third_party/Matcha-TTS'...\n",
            "remote: Enumerating objects: 1068, done.        \n",
            "remote: Counting objects: 100% (480/480), done.        \n",
            "remote: Compressing objects: 100% (171/171), done.        \n",
            "remote: Total 1068 (delta 385), reused 318 (delta 309), pack-reused 588 (from 2)        \n",
            "Receiving objects: 100% (1068/1068), 64.11 MiB | 22.48 MiB/s, done.\n",
            "Resolving deltas: 100% (517/517), done.\n",
            "Submodule path 'third_party/Matcha-TTS': checked out 'dd9105b34bf2be2230f4aa1e4769fb586a3c824e'\n",
            "/content/CosyVoice\n",
            "Looking in indexes: https://pypi.org/simple, https://download.pytorch.org/whl/cu118\n",
            "Ignoring onnxruntime: markers 'sys_platform == \"darwin\" or sys_platform == \"windows\"' don't match your environment\n",
            "Collecting conformer==0.3.2 (from -r requirements.txt (line 2))\n",
            "  Downloading conformer-0.3.2-py3-none-any.whl.metadata (631 bytes)\n",
            "Collecting deepspeed==0.14.2 (from -r requirements.txt (line 3))\n",
            "  Downloading deepspeed-0.14.2.tar.gz (1.3 MB)\n",
            "\u001b[2K     \u001b[90m━━━━━━━━━━━━━━━━━━━━━━━━━━━━━━━━━━━━━━━━\u001b[0m \u001b[32m1.3/1.3 MB\u001b[0m \u001b[31m14.0 MB/s\u001b[0m eta \u001b[36m0:00:00\u001b[0m\n",
            "\u001b[?25h  Preparing metadata (setup.py) ... \u001b[?25l\u001b[?25hdone\n",
            "Collecting diffusers==0.27.2 (from -r requirements.txt (line 4))\n",
            "  Downloading diffusers-0.27.2-py3-none-any.whl.metadata (18 kB)\n",
            "Collecting gdown==5.1.0 (from -r requirements.txt (line 5))\n",
            "  Downloading gdown-5.1.0-py3-none-any.whl.metadata (5.7 kB)\n",
            "Collecting gradio==4.32.2 (from -r requirements.txt (line 6))\n",
            "  Downloading gradio-4.32.2-py3-none-any.whl.metadata (15 kB)\n"
          ]
        }
      ]
    },
    {
      "cell_type": "code",
      "source": [],
      "metadata": {
        "id": "7FjBPnhPL8Pu"
      },
      "execution_count": null,
      "outputs": []
    }
  ]
}